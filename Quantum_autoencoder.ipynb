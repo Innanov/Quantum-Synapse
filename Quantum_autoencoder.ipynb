{
  "cells": [
    {
      "cell_type": "code",
      "execution_count": null,
      "metadata": {
        "id": "6yEkkz043jjE",
        "colab": {
          "base_uri": "https://localhost:8080/"
        },
        "outputId": "ac408190-52b9-4e87-92ed-a1e22562b51f"
      },
      "outputs": [
        {
          "output_type": "stream",
          "name": "stdout",
          "text": [
            "\u001b[2K     \u001b[90m━━━━━━━━━━━━━━━━━━━━━━━━━━━━━━━━━━━━━━━━\u001b[0m \u001b[32m1.3/1.3 MB\u001b[0m \u001b[31m17.4 MB/s\u001b[0m eta \u001b[36m0:00:00\u001b[0m\n",
            "\u001b[2K     \u001b[90m━━━━━━━━━━━━━━━━━━━━━━━━━━━━━━━━━━━━━━━━\u001b[0m \u001b[32m15.3/15.3 MB\u001b[0m \u001b[31m47.2 MB/s\u001b[0m eta \u001b[36m0:00:00\u001b[0m\n",
            "\u001b[2K     \u001b[90m━━━━━━━━━━━━━━━━━━━━━━━━━━━━━━━━━━━━━━━━\u001b[0m \u001b[32m46.4/46.4 KB\u001b[0m \u001b[31m5.6 MB/s\u001b[0m eta \u001b[36m0:00:00\u001b[0m\n",
            "\u001b[2K     \u001b[90m━━━━━━━━━━━━━━━━━━━━━━━━━━━━━━━━━━━━━━\u001b[0m \u001b[32m146.0/146.0 KB\u001b[0m \u001b[31m15.3 MB/s\u001b[0m eta \u001b[36m0:00:00\u001b[0m\n",
            "\u001b[2K     \u001b[90m━━━━━━━━━━━━━━━━━━━━━━━━━━━━━━━━━━━━━━━━\u001b[0m \u001b[32m1.9/1.9 MB\u001b[0m \u001b[31m62.7 MB/s\u001b[0m eta \u001b[36m0:00:00\u001b[0m\n",
            "\u001b[?25h"
          ]
        }
      ],
      "source": [
        "!pip install -q pennylane"
      ]
    },
    {
      "cell_type": "markdown",
      "metadata": {
        "id": "Y4fndLuV3zef"
      },
      "source": [
        "# Variational Quantum Autoencoder\n",
        "\n",
        "A variational quantum autoencoder (VQAE) is a type of quantum machine learning algorithm that combines the power of quantum computing and neural networks to perform data compression and reconstruction. It is a natural extension of classical autoencoders, which are widely used in deep learning to compress and decompress high-dimensional data. In contrast to classical autoencoders, VQAEs use quantum circuits to encode and decode data, and can therefore take advantage of the unique properties of quantum mechanics, such as superposition and entanglement, to achieve better data compression and higher accuracy in reconstruction.\n",
        "\n",
        "The VQAE architecture consists of three main components: an encoder quantum circuit, a decoder quantum circuit, and a classical neural network that acts as an optimizer. The encoder circuit maps the input data into a lower-dimensional quantum state, which is then fed into the decoder circuit to reconstruct the original data. The optimization process is used to minimize the difference between the input and output data by adjusting the parameters of the quantum circuits and the neural network.\n",
        "\n",
        "One of the key advantages of VQAEs is their ability to learn from a limited amount of training data, which is particularly useful in situations where data is scarce or expensive to obtain. VQAEs can also be used for unsupervised learning, which means they can identify patterns and features in data without the need for explicit labels.\n",
        "\n",
        "VQAEs are still in the early stages of development, and there are many challenges that need to be overcome before they can be applied to real-world problems. However, they hold great promise for the future of quantum machine learning, and could potentially lead to breakthroughs in areas such as drug discovery, materials science, and optimization.\n"
      ]
    },
    {
      "cell_type": "markdown",
      "metadata": {
        "id": "6eMwdG_T7o9l"
      },
      "source": [
        "### Download dataset"
      ]
    },
    {
      "cell_type": "code",
      "execution_count": null,
      "metadata": {
        "id": "OcR4XaTv7uBj"
      },
      "outputs": [],
      "source": [
        "from sklearn import datasets\n",
        "from sklearn.preprocessing import MinMaxScaler\n",
        "import pennylane as qml\n",
        "import pennylane.numpy as np\n",
        "from pennylane.templates.embeddings import AmplitudeEmbedding\n",
        "import matplotlib.pyplot as plt"
      ]
    },
    {
      "cell_type": "code",
      "execution_count": null,
      "metadata": {
        "id": "8Q-ZNFrdYfcy"
      },
      "outputs": [],
      "source": [
        "X, y = datasets.load_wine(return_X_y=True)"
      ]
    },
    {
      "cell_type": "code",
      "execution_count": null,
      "metadata": {
        "id": "F_cca-q9053d"
      },
      "outputs": [],
      "source": [
        "scaler = MinMaxScaler(feature_range=(0, 1))\n",
        "X_scaled = scaler.fit_transform(X)[0]"
      ]
    },
    {
      "cell_type": "code",
      "execution_count": null,
      "metadata": {
        "id": "7cN992oQ1z7p"
      },
      "outputs": [],
      "source": [
        "# # wrong encoding\n",
        "# n_qubits = 4\n",
        "# dev = qml.device('default.qubit', wires=n_qubits)\n",
        "\n",
        "# @qml.qnode(dev)\n",
        "# def circuit(feature_vector):\n",
        "#   U = np.eye(2 ** n_qubits, dtype=complex)\n",
        "#   for i in range(len(feature_vector)):\n",
        "#     #print(feature_vector[i])\n",
        "#     U[i, i] = np.exp(1j * feature_vector[i] * np.pi)\n",
        "#   #print(U)\n",
        "#   qml.QubitUnitary(U, wires=range(n_qubits))\n",
        "#   return qml.state()\n",
        "\n",
        "# print(circuit(X_scaled[0]))\n",
        "# print(circuit(X_scaled[1]))"
      ]
    },
    {
      "cell_type": "code",
      "execution_count": null,
      "metadata": {
        "id": "5zmoMfC-7TyT"
      },
      "outputs": [],
      "source": [
        "# correct encoding\n",
        "n_qubits = 4\n",
        "dev = qml.device('default.qubit', wires=n_qubits)\n",
        "\n",
        "@qml.qnode(dev)\n",
        "def circuit(feature_vector):\n",
        "  qml.AmplitudeEmbedding(features=np.exp(1j * np.pi * feature_vector), wires=range(n_qubits), pad_with=0.0, normalize=True)\n",
        "  return qml.state()"
      ]
    },
    {
      "cell_type": "code",
      "execution_count": null,
      "metadata": {
        "id": "m1bthi9MmQ02"
      },
      "outputs": [],
      "source": [
        "def phase_embedding_layer(x):\n",
        "  qml.AmplitudeEmbedding(features=np.exp(1j * np.pi * x), wires=range(n_qubits), pad_with=0.0, normalize=True)\n",
        "  #qml.AmplitudeEmbedding(features=x, wires=range(n_qubits), pad_with=0.0, normalize=True)\n",
        "\n",
        "def encoding_layer(params):\n",
        "    for i in range(n_qubits):\n",
        "        qml.RY(params[i], wires=i)\n",
        "    for i in range(n_qubits-1):\n",
        "      qml.CNOT(wires=[i, (i+1)%n_qubits])\n",
        "\n",
        "def decoding_layer(params):\n",
        "    for i in range(n_qubits-1):\n",
        "      k = n_qubits - i - 1\n",
        "      qml.CNOT(wires=[k, (k+1)%n_qubits])\n",
        "    for i in range(n_qubits):\n",
        "        qml.RY(-params[i], wires=i)"
      ]
    },
    {
      "cell_type": "code",
      "execution_count": null,
      "metadata": {
        "id": "XO8v2aunGUIi"
      },
      "outputs": [],
      "source": [
        "n_qubits = 4\n",
        "n_layers = 10\n",
        "measure_qubits = [0,1]\n",
        "dev = qml.device(\"default.qubit\", wires=n_qubits)"
      ]
    },
    {
      "cell_type": "code",
      "execution_count": null,
      "metadata": {
        "id": "Kqry2CIFWWUc"
      },
      "outputs": [],
      "source": [
        "@qml.qnode(dev)\n",
        "def encoding_circuit(params, x, mqubits=None):\n",
        "    phase_embedding_layer(x)\n",
        "    for i in range(n_layers):\n",
        "        encoding_layer(params[i])\n",
        "    if mqubits is None:\n",
        "        for i in range(len(measure_qubits)):\n",
        "            qml.measure(i)\n",
        "        return qml.state()\n",
        "    \n",
        "    return [\n",
        "        qml.expval(qml.PauliZ(wires=measure_qubits[i]))\n",
        "        for i in range(len(measure_qubits))\n",
        "    ]"
      ]
    },
    {
      "cell_type": "code",
      "execution_count": null,
      "metadata": {
        "colab": {
          "base_uri": "https://localhost:8080/"
        },
        "id": "szpCoOFMfmha",
        "outputId": "b4542e67-3f67-4858-9fbe-6045ca2fae64"
      },
      "outputs": [
        {
          "output_type": "stream",
          "name": "stdout",
          "text": [
            "Step 20: Cost = 0.6403648396144628\n",
            "Step 40: Cost = 0.2665549105628565\n",
            "Step 60: Cost = 0.09694793857885897\n",
            "Step 80: Cost = 0.04408708911920467\n",
            "Step 100: Cost = 0.026128196859139363\n",
            "Step 120: Cost = 0.013601760721008826\n",
            "Step 140: Cost = 0.006574403744542767\n",
            "Step 160: Cost = 0.0032333779669293516\n",
            "Step 180: Cost = 0.0015906761358953636\n",
            "Step 200: Cost = 0.0007104493533709455\n",
            "Step 220: Cost = 0.00026933528667760775\n",
            "Step 240: Cost = 8.316991106327443e-05\n",
            "Step 260: Cost = 2.0006275856632172e-05\n",
            "Step 280: Cost = 3.5013492308832994e-06\n",
            "Step 300: Cost = 3.961888113135359e-07\n",
            "Step 320: Cost = 2.4924684205451797e-08\n",
            "Step 340: Cost = 2.037975233015743e-09\n",
            "Step 360: Cost = 4.743956338870703e-10\n",
            "Step 380: Cost = 4.751521398560499e-11\n",
            "Step 400: Cost = 5.6632476486129235e-12\n",
            "Step 420: Cost = 8.546496843564455e-13\n",
            "Step 440: Cost = 5.762057497804562e-14\n",
            "Step 460: Cost = 1.7430501486614958e-14\n",
            "Step 480: Cost = 0.0\n",
            "Step 500: Cost = 4.440892098500626e-16\n",
            "Step 520: Cost = 1.9095836023552692e-14\n",
            "Step 540: Cost = 1.1102230246251565e-15\n",
            "Step 560: Cost = 1.2212453270876722e-15\n",
            "Step 580: Cost = 2.375877272697835e-14\n",
            "Step 600: Cost = 8.104628079763643e-15\n",
            "Step 620: Cost = 2.4424906541753444e-15\n",
            "Step 640: Cost = 1.5543122344752192e-15\n",
            "Step 660: Cost = 8.419356323230431e-10\n",
            "Step 680: Cost = 3.403786952294041e-08\n",
            "Step 700: Cost = 4.3038431707387304e-08\n",
            "Step 720: Cost = 8.916994920227239e-09\n",
            "Step 740: Cost = 5.070543318552723e-09\n",
            "Step 760: Cost = 3.861020858808573e-06\n",
            "Step 780: Cost = 9.662657178832745e-07\n",
            "Step 800: Cost = 3.6457322715177654e-06\n",
            "Step 820: Cost = 6.084443429976716e-06\n",
            "Step 840: Cost = 2.1156082330442416e-08\n",
            "Step 860: Cost = 5.6576262785767995e-08\n",
            "Step 880: Cost = 1.836546217615087e-05\n",
            "Step 900: Cost = 1.4702482786788096e-08\n",
            "Step 920: Cost = 7.222434377229803e-07\n",
            "Step 940: Cost = 2.053068281404613e-05\n",
            "Step 960: Cost = 5.1447810447413644e-06\n",
            "Step 980: Cost = 2.583261882183052e-06\n",
            "Step 1000: Cost = 4.601891102073985e-06\n"
          ]
        }
      ],
      "source": [
        "opt = qml.AdamOptimizer()\n",
        "\n",
        "def loss_fn(params, X, measure_qubits):\n",
        "    val = encoding_circuit(params, X, mqubits=measure_qubits)\n",
        "    return np.sum(np.abs(1 - val))\n",
        "\n",
        "params = np.array([\n",
        "    [np.random.uniform(0, 2 * np.pi) for _ in range(n_qubits)] for _ in range(n_layers)], requires_grad=True)\n",
        "\n",
        "costs=[]\n",
        "for i in range(1000):\n",
        "    params, cost_val = opt.step_and_cost(lambda v: loss_fn(v, X_scaled, measure_qubits), params)\n",
        "    costs.append(cost_val)\n",
        "    if (i + 1) % 20 == 0:\n",
        "        print('Step {}: Cost = {}'.format(i + 1, cost_val))"
      ]
    },
    {
      "cell_type": "code",
      "execution_count": null,
      "metadata": {
        "colab": {
          "base_uri": "https://localhost:8080/",
          "height": 279
        },
        "id": "3hnqHMet3IJz",
        "outputId": "1bfaf50c-1d0f-4824-886c-a319c8b3c21c"
      },
      "outputs": [
        {
          "output_type": "display_data",
          "data": {
            "text/plain": [
              "<Figure size 432x288 with 1 Axes>"
            ],
            "image/png": "[encoded data removed]"
          },
          "metadata": {
            "needs_background": "light"
          }
        }
      ],
      "source": [
        "# Plot cost history\n",
        "plt.plot(costs)\n",
        "plt.xlabel(\"Optimization step\")\n",
        "plt.ylabel(\"Cost\")\n",
        "plt.ylim(0)\n",
        "plt.show()"
      ]
    },
    {
      "cell_type": "code",
      "execution_count": null,
      "metadata": {
        "id": "GWZ15dWt4Gg_"
      },
      "outputs": [],
      "source": []
    },
    {
      "cell_type": "markdown",
      "metadata": {
        "id": "rTO_UeM44Ha6"
      },
      "source": [
        "## 2-qubit case (revisited)"
      ]
    },
    {
      "cell_type": "code",
      "execution_count": null,
      "metadata": {
        "id": "M6WgH6Zw4ObQ"
      },
      "outputs": [],
      "source": [
        "import pennylane as qml\n",
        "import pennylane.numpy as np\n",
        "from pennylane.templates.embeddings import AmplitudeEmbedding\n",
        "import matplotlib.pyplot as plt\n",
        "\n",
        "def phase_embedding_layer(x):\n",
        "  qml.AmplitudeEmbedding(features=np.exp(1j * np.pi * x), wires=range(n_qubits), pad_with=0.0, normalize=True)\n",
        "\n",
        "def encoding_layer(params):\n",
        "    for i in range(n_qubits):\n",
        "        qml.RY(params[i], wires=i)\n",
        "    for i in range(n_qubits):\n",
        "      qml.CNOT(wires=[i, (i+1)%n_qubits])\n",
        "\n",
        "def decoding_layer(params):\n",
        "    for i in range(n_qubits):\n",
        "      k = n_qubits - i - 1\n",
        "      qml.CNOT(wires=[k, (k+1)%n_qubits])\n",
        "    for i in range(n_qubits):\n",
        "        qml.RY(-params[i], wires=i)\n"
      ]
    },
    {
      "cell_type": "code",
      "execution_count": null,
      "metadata": {
        "id": "EGsXog4u4j_L"
      },
      "outputs": [],
      "source": [
        "n_qubits = 2\n",
        "n_layers = 4\n",
        "measure_qubits = [0]\n",
        "dev = qml.device(\"default.qubit\", wires=n_qubits)"
      ]
    },
    {
      "cell_type": "code",
      "execution_count": null,
      "metadata": {
        "id": "fj7rvAVR4qBY"
      },
      "outputs": [],
      "source": [
        "@qml.qnode(dev)\n",
        "def encoding_circuit(params, x, measure_qubits=None):\n",
        "  phase_embedding_layer(x)\n",
        "  for i in range(n_layers):\n",
        "    encoding_layer(params[i])\n",
        "  if measure_qubits is None:\n",
        "    return qml.state()\n",
        "  if (len(measure_qubits) == 2):\n",
        "    return qml.expval(qml.PauliZ(wires=measure_qubits[0])), qml.expval(qml.PauliZ(wires=measure_qubits[1]))  \n",
        "  return qml.expval(qml.PauliZ(wires=measure_qubits))"
      ]
    },
    {
      "cell_type": "code",
      "execution_count": null,
      "metadata": {
        "id": "pO9xa2cf4r7q"
      },
      "outputs": [],
      "source": [
        "xval = np.random.uniform(\n",
        "    0,\n",
        "    np.pi,\n",
        "    2**n_qubits,\n",
        ")"
      ]
    },
    {
      "cell_type": "code",
      "execution_count": null,
      "metadata": {
        "colab": {
          "base_uri": "https://localhost:8080/"
        },
        "id": "J3JczTsv5DNQ",
        "outputId": "f232199d-ad4f-4d8d-91b9-64edb5226243"
      },
      "outputs": [
        {
          "output_type": "stream",
          "name": "stdout",
          "text": [
            "Step 10: Cost = 0.6543894227818412\n",
            "Step 20: Cost = 0.5076924248980641\n",
            "Step 30: Cost = 0.36994695188319215\n",
            "Step 40: Cost = 0.23911393555013682\n",
            "Step 50: Cost = 0.13143203186806363\n",
            "Step 60: Cost = 0.05916281819446545\n",
            "Step 70: Cost = 0.02009835634174173\n",
            "Step 80: Cost = 0.004330699212578559\n",
            "Step 90: Cost = 0.00045411048022003797\n",
            "Step 100: Cost = 0.00020859785385651808\n",
            "Step 110: Cost = 0.00023017895684174228\n",
            "Step 120: Cost = 0.00010566222186758623\n",
            "Step 130: Cost = 1.9499601922823295e-05\n",
            "Step 140: Cost = 1.2203590554760169e-06\n",
            "Step 150: Cost = 2.8693805419477414e-06\n",
            "Step 160: Cost = 1.9063234716343302e-06\n",
            "Step 170: Cost = 3.0606388001785945e-07\n",
            "Step 180: Cost = 7.2981398702154365e-09\n",
            "Step 190: Cost = 6.228745841330152e-08\n",
            "Step 200: Cost = 2.7111255018752445e-08\n",
            "Step 210: Cost = 1.1289157386684678e-09\n",
            "Step 220: Cost = 1.956557027504857e-09\n",
            "Step 230: Cost = 1.1975603841918314e-09\n",
            "Step 240: Cost = 7.2065797773746e-11\n",
            "Step 250: Cost = 1.182025588519764e-10\n",
            "Step 260: Cost = 4.127587160951407e-11\n",
            "Step 270: Cost = 2.758460126983664e-12\n",
            "Step 280: Cost = 7.834621840174805e-12\n",
            "Step 290: Cost = 5.044853423896711e-13\n",
            "Step 300: Cost = 6.050715484207103e-13\n",
            "Step 310: Cost = 2.474687121889474e-13\n",
            "Step 320: Cost = 2.5091040356528538e-14\n",
            "Step 330: Cost = 4.030109579389318e-14\n",
            "Step 340: Cost = 2.9976021664879227e-15\n",
            "Step 350: Cost = 4.440892098500626e-15\n",
            "Step 360: Cost = 3.3306690738754696e-16\n",
            "Step 370: Cost = 6.661338147750939e-16\n",
            "Step 380: Cost = 0.0\n",
            "Step 390: Cost = 6.661338147750939e-16\n",
            "Step 400: Cost = 5.551115123125783e-16\n",
            "Step 410: Cost = 2.220446049250313e-16\n",
            "Step 420: Cost = 3.3306690738754696e-16\n",
            "Step 430: Cost = 1.1102230246251565e-16\n",
            "Step 440: Cost = 0.0\n",
            "Step 450: Cost = 0.0\n",
            "Step 460: Cost = 4.440892098500626e-16\n",
            "Step 470: Cost = 2.220446049250313e-16\n",
            "Step 480: Cost = 0.0\n",
            "Step 490: Cost = 4.440892098500626e-16\n",
            "Step 500: Cost = 1.1102230246251565e-16\n",
            "Step 510: Cost = 2.220446049250313e-16\n",
            "Step 520: Cost = 4.440892098500626e-16\n",
            "Step 530: Cost = 0.0\n",
            "Step 540: Cost = 1.1102230246251565e-16\n",
            "Step 550: Cost = 0.0\n",
            "Step 560: Cost = 1.1102230246251565e-16\n",
            "Step 570: Cost = 0.0\n",
            "Step 580: Cost = 3.3306690738754696e-16\n",
            "Step 590: Cost = 0.0\n",
            "Step 600: Cost = 2.220446049250313e-16\n",
            "Step 610: Cost = 5.551115123125783e-16\n",
            "Step 620: Cost = 0.0\n",
            "Step 630: Cost = 3.3306690738754696e-16\n",
            "Step 640: Cost = 0.0\n",
            "Step 650: Cost = 5.551115123125783e-16\n",
            "Step 660: Cost = 4.440892098500626e-16\n",
            "Step 670: Cost = 0.0\n",
            "Step 680: Cost = 2.220446049250313e-16\n",
            "Step 690: Cost = 4.440892098500626e-16\n",
            "Step 700: Cost = 0.0\n",
            "Step 710: Cost = 0.0\n",
            "Step 720: Cost = 1.1102230246251565e-16\n",
            "Step 730: Cost = 1.4432899320127035e-15\n",
            "Step 740: Cost = 4.440892098500626e-16\n",
            "Step 750: Cost = 0.0\n",
            "Step 760: Cost = 9.992007221626409e-16\n",
            "Step 770: Cost = 2.220446049250313e-16\n",
            "Step 780: Cost = 0.0\n",
            "Step 790: Cost = 2.220446049250313e-16\n",
            "Step 800: Cost = 6.661338147750939e-16\n",
            "Step 810: Cost = 7.771561172376096e-16\n",
            "Step 820: Cost = 6.661338147750939e-16\n",
            "Step 830: Cost = 0.0\n",
            "Step 840: Cost = 1.887379141862766e-15\n",
            "Step 850: Cost = 4.440892098500626e-16\n",
            "Step 860: Cost = 3.3306690738754696e-16\n",
            "Step 870: Cost = 4.551914400963142e-15\n",
            "Step 880: Cost = 8.881784197001252e-16\n",
            "Step 890: Cost = 2.220446049250313e-16\n",
            "Step 900: Cost = 1.1102230246251565e-16\n",
            "Step 910: Cost = 4.107825191113079e-15\n",
            "Step 920: Cost = 1.1102230246251565e-15\n",
            "Step 930: Cost = 6.661338147750939e-16\n",
            "Step 940: Cost = 8.881784197001252e-16\n",
            "Step 950: Cost = 7.216449660063518e-15\n",
            "Step 960: Cost = 2.3314683517128287e-15\n",
            "Step 970: Cost = 1.4432899320127035e-15\n",
            "Step 980: Cost = 1.3322676295501878e-15\n",
            "Step 990: Cost = 9.992007221626409e-16\n",
            "Step 1000: Cost = 1.2212453270876722e-15\n"
          ]
        }
      ],
      "source": [
        "opt = qml.AdamOptimizer()\n",
        "\n",
        "def loss_fn(params, X, measure_qubits):\n",
        "  val = encoding_circuit(params, X, measure_qubits=measure_qubits)\n",
        "  return np.mean(np.abs(1-val))\n",
        "\n",
        "\n",
        "params = np.array([\n",
        "    [np.random.uniform(0, 2 * np.pi) for _ in range(n_qubits)] for _ in range(n_layers)\n",
        "], requires_grad=True)\n",
        "tot_iter = 1000\n",
        "costs=[]\n",
        "for i in range(tot_iter):\n",
        "    params, cost_val = opt.step_and_cost(lambda v: loss_fn(v, xval, measure_qubits), params)\n",
        "    costs.append(cost_val)\n",
        "    if (i + 1) % (tot_iter/100) == 0:\n",
        "        print('Step {}: Cost = {}'.format(i + 1, cost_val))"
      ]
    },
    {
      "cell_type": "code",
      "source": [
        "# Plot cost history\n",
        "plt.plot(costs)\n",
        "plt.xlabel(\"Optimization step\")\n",
        "plt.ylabel(\"Cost\")\n",
        "plt.ylim(0)\n",
        "plt.show()"
      ],
      "metadata": {
        "colab": {
          "base_uri": "https://localhost:8080/",
          "height": 279
        },
        "id": "kpE0gyFfh3Xv",
        "outputId": "f4c8c576-380f-4187-973a-c2169e25a267"
      },
      "execution_count": null,
      "outputs": [
        {
          "output_type": "display_data",
          "data": {
            "text/plain": [
              "<Figure size 432x288 with 1 Axes>"
            ],
            "image/png": "[encoded data removed]"
          },
          "metadata": {
            "needs_background": "light"
          }
        }
      ]
    },
    {
      "cell_type": "code",
      "source": [
        "opt_params = params"
      ],
      "metadata": {
        "id": "oITuYb_c5o0z"
      },
      "execution_count": null,
      "outputs": []
    },
    {
      "cell_type": "code",
      "source": [
        "opt_params"
      ],
      "metadata": {
        "colab": {
          "base_uri": "https://localhost:8080/"
        },
        "id": "ECJtwOcyFgR9",
        "outputId": "49e77075-a4af-4622-fd01-59ac337fdcb6"
      },
      "execution_count": null,
      "outputs": [
        {
          "output_type": "execute_result",
          "data": {
            "text/plain": [
              "tensor([[2.559182  , 4.63126161],\n",
              "        [3.7084734 , 0.92342611],\n",
              "        [6.03709028, 6.14763942],\n",
              "        [4.79766455, 2.86500368]], requires_grad=True)"
            ]
          },
          "metadata": {},
          "execution_count": 19
        }
      ]
    },
    {
      "cell_type": "code",
      "source": [
        "n_layers = 4\n",
        "m_qubits = ['m0']\n",
        "c_qubits = ['c0']\n",
        "a_qubits = ['a0']\n",
        "dev = qml.device(\"default.qubit\", wires=m_qubits+c_qubits+a_qubits)\n",
        "xval = np.random.uniform(\n",
        "    0,\n",
        "    np.pi,\n",
        "    2**n_qubits,\n",
        ")\n",
        "all_qubits = m_qubits+c_qubits\n",
        "print(all_qubits)"
      ],
      "metadata": {
        "id": "l7LMXcaKHIGh",
        "outputId": "2a189ad3-f396-42db-f7a4-850355d5ed81",
        "colab": {
          "base_uri": "https://localhost:8080/"
        }
      },
      "execution_count": null,
      "outputs": [
        {
          "output_type": "stream",
          "name": "stdout",
          "text": [
            "['m0', 'c0']\n"
          ]
        }
      ]
    },
    {
      "cell_type": "code",
      "source": [
        "n_layers = 4\n",
        "m_qubits = ['m0']\n",
        "c_qubits = ['c0']\n",
        "a_qubits = ['a0']\n",
        "dev = qml.device(\"default.qubit\", wires=m_qubits+c_qubits+a_qubits)\n",
        "xval = np.random.uniform(\n",
        "    0,\n",
        "    np.pi,\n",
        "    2**n_qubits,\n",
        ")\n",
        "\n",
        "def phase_embedding_layer(x):\n",
        "  qml.AmplitudeEmbedding(features=np.exp(1j * np.pi * x), wires=m_qubits+c_qubits, pad_with=0.0, normalize=True)\n",
        "  #qml.AmplitudeEmbedding(features=x, wires=range(n_qubits), pad_with=0.0, normalize=True)\n",
        "\n",
        "def encoding_layer(params):\n",
        "  all_qubits = m_qubits+c_qubits\n",
        "  for i, q in enumerate(all_qubits):\n",
        "    qml.RY(params[i], wires=q)\n",
        "  for i, q in enumerate(all_qubits):\n",
        "    if i + 1 < len(all_qubits):\n",
        "      qml.CNOT(wires=[q, all_qubits[i+1]])\n",
        "\n",
        "def decoding_layer(params):\n",
        "  all_qubits = a_qubits+c_qubits\n",
        "  for i, q in enumerate(all_qubits):\n",
        "    k = len(all_qubits) - i - 1\n",
        "    if k+1 < len(all_qubits):\n",
        "      qml.CNOT(wires=[all_qubits[k], all_qubits[k+1]])\n",
        "  for i, q in enumerate(all_qubits):\n",
        "    qml.RY(-params[i], wires=q)"
      ],
      "metadata": {
        "id": "BV2lM1yR5sFI"
      },
      "execution_count": null,
      "outputs": []
    },
    {
      "cell_type": "code",
      "source": [
        "opt = qml.AdamOptimizer()\n",
        "\n",
        "@qml.qnode(dev)\n",
        "def encode_loop(params, x):\n",
        "  phase_embedding_layer(x)\n",
        "  for i in range(n_layers):\n",
        "    encoding_layer(params[i])\n",
        "  return qml.expval(qml.PauliZ(wires=m_qubits))\n",
        "\n",
        "\n",
        "def loss_fn(params, X):\n",
        "  e_val = encode_loop(params, X)\n",
        "  return np.mean(np.abs(1-e_val))\n",
        "\n",
        "\n",
        "params = np.array([\n",
        "    [np.random.uniform(0, 2 * np.pi) for _ in range(n_qubits)] for _ in range(n_layers)\n",
        "], requires_grad=True)\n",
        "opt_params = np.zeros_like(params)\n",
        "tot_iter = 1000\n",
        "costs=[]\n",
        "for i in range(tot_iter):\n",
        "  params, cost_val = opt.step_and_cost(lambda v: loss_fn(v, xval), params)\n",
        "  costs.append(cost_val)\n",
        "  if (i + 1) % (tot_iter/100) == 0:\n",
        "    print('Step {}: Cost = {}'.format(i + 1, cost_val))\n",
        "  opt_params = params\n",
        "    "
      ],
      "metadata": {
        "colab": {
          "base_uri": "https://localhost:8080/"
        },
        "id": "dcqfDZSkJqSl",
        "outputId": "675643de-3729-466d-ffac-57d39f9f342c"
      },
      "execution_count": null,
      "outputs": [
        {
          "output_type": "stream",
          "name": "stdout",
          "text": [
            "Step 10: Cost = 0.3484939799111004\n",
            "Step 20: Cost = 0.16404906384492834\n",
            "Step 30: Cost = 0.06312606471793836\n",
            "Step 40: Cost = 0.01488519104803221\n",
            "Step 50: Cost = 0.00411525550534575\n",
            "Step 60: Cost = 0.002330772382092783\n",
            "Step 70: Cost = 0.0014352682586141752\n",
            "Step 80: Cost = 0.00037097721340950685\n",
            "Step 90: Cost = 3.3337248138143316e-05\n",
            "Step 100: Cost = 2.0237304671821832e-05\n",
            "Step 110: Cost = 2.0888886968051246e-05\n",
            "Step 120: Cost = 6.558285374103079e-06\n",
            "Step 130: Cost = 2.725759027155661e-06\n",
            "Step 140: Cost = 1.8520907378860585e-06\n",
            "Step 150: Cost = 7.271250287432807e-07\n",
            "Step 160: Cost = 4.285697777772768e-07\n",
            "Step 170: Cost = 2.7842568750546803e-07\n",
            "Step 180: Cost = 1.373107583191313e-07\n",
            "Step 190: Cost = 7.500121179671027e-08\n",
            "Step 200: Cost = 3.7575233702291655e-08\n",
            "Step 210: Cost = 1.7841932820061857e-08\n",
            "Step 220: Cost = 7.887282826857245e-09\n",
            "Step 230: Cost = 3.0709504938997156e-09\n",
            "Step 240: Cost = 1.1173473257741762e-09\n",
            "Step 250: Cost = 3.293435524298616e-10\n",
            "Step 260: Cost = 7.960110348648186e-11\n",
            "Step 270: Cost = 1.180944231293779e-11\n",
            "Step 280: Cost = 8.907319326567631e-13\n",
            "Step 290: Cost = 3.540501225529624e-13\n",
            "Step 300: Cost = 7.657208200839705e-13\n",
            "Step 310: Cost = 5.211386877590485e-13\n",
            "Step 320: Cost = 2.1094237467877974e-13\n",
            "Step 330: Cost = 5.440092820663267e-14\n",
            "Step 340: Cost = 4.440892098500626e-15\n",
            "Step 350: Cost = 3.3306690738754696e-16\n",
            "Step 360: Cost = 1.1102230246251565e-15\n",
            "Step 370: Cost = 9.992007221626409e-16\n",
            "Step 380: Cost = 0.0\n",
            "Step 390: Cost = 2.220446049250313e-16\n",
            "Step 400: Cost = 0.0\n",
            "Step 410: Cost = 0.0\n",
            "Step 420: Cost = 2.220446049250313e-16\n",
            "Step 430: Cost = 4.440892098500626e-16\n",
            "Step 440: Cost = 6.661338147750939e-16\n",
            "Step 450: Cost = 4.440892098500626e-16\n",
            "Step 460: Cost = 0.0\n",
            "Step 470: Cost = 1.1102230246251565e-16\n",
            "Step 480: Cost = 2.220446049250313e-16\n",
            "Step 490: Cost = 0.0\n",
            "Step 500: Cost = 1.1102230246251565e-16\n",
            "Step 510: Cost = 4.440892098500626e-16\n",
            "Step 520: Cost = 5.551115123125783e-16\n",
            "Step 530: Cost = 1.1102230246251565e-16\n",
            "Step 540: Cost = 5.551115123125783e-16\n",
            "Step 550: Cost = 3.3306690738754696e-16\n",
            "Step 560: Cost = 2.220446049250313e-16\n",
            "Step 570: Cost = 7.771561172376096e-16\n",
            "Step 580: Cost = 2.1094237467877974e-15\n",
            "Step 590: Cost = 2.220446049250313e-16\n",
            "Step 600: Cost = 1.1102230246251565e-16\n",
            "Step 610: Cost = 1.1102230246251565e-16\n",
            "Step 620: Cost = 4.440892098500626e-16\n",
            "Step 630: Cost = 3.3306690738754696e-16\n",
            "Step 640: Cost = 2.220446049250313e-16\n",
            "Step 650: Cost = 2.220446049250313e-16\n",
            "Step 660: Cost = 2.220446049250313e-16\n",
            "Step 670: Cost = 1.1102230246251565e-16\n",
            "Step 680: Cost = 0.0\n",
            "Step 690: Cost = 5.551115123125783e-16\n",
            "Step 700: Cost = 5.551115123125783e-16\n",
            "Step 710: Cost = 0.0\n",
            "Step 720: Cost = 2.220446049250313e-16\n",
            "Step 730: Cost = 1.1102230246251565e-16\n",
            "Step 740: Cost = 4.440892098500626e-16\n",
            "Step 750: Cost = 4.440892098500626e-16\n",
            "Step 760: Cost = 3.3306690738754696e-16\n",
            "Step 770: Cost = 9.992007221626409e-16\n",
            "Step 780: Cost = 6.661338147750939e-16\n",
            "Step 790: Cost = 4.440892098500626e-16\n",
            "Step 800: Cost = 2.220446049250313e-16\n",
            "Step 810: Cost = 9.992007221626409e-16\n",
            "Step 820: Cost = 4.440892098500626e-16\n",
            "Step 830: Cost = 1.9984014443252818e-15\n",
            "Step 840: Cost = 2.7755575615628914e-15\n",
            "Step 850: Cost = 7.771561172376096e-16\n",
            "Step 860: Cost = 6.661338147750939e-16\n",
            "Step 870: Cost = 3.6637359812630166e-15\n",
            "Step 880: Cost = 2.55351295663786e-15\n",
            "Step 890: Cost = 2.1094237467877974e-15\n",
            "Step 900: Cost = 0.0\n",
            "Step 910: Cost = 0.0\n",
            "Step 920: Cost = 9.992007221626409e-16\n",
            "Step 930: Cost = 1.2212453270876722e-15\n",
            "Step 940: Cost = 1.1102230246251565e-16\n",
            "Step 950: Cost = 3.219646771412954e-14\n",
            "Step 960: Cost = 9.325873406851315e-15\n",
            "Step 970: Cost = 3.7414515929867775e-14\n",
            "Step 980: Cost = 1.6353585152728556e-13\n",
            "Step 990: Cost = 8.459776212887959e-10\n",
            "Step 1000: Cost = 3.942815006596767e-06\n"
          ]
        }
      ]
    },
    {
      "cell_type": "code",
      "source": [
        "dev = qml.device(\"default.qubit\", wires=m_qubits+c_qubits+a_qubits, shots=10)\n",
        "\n",
        "@qml.qnode(dev)\n",
        "def circuit(params, x):\n",
        "  phase_embedding_layer(x)\n",
        "  for i in range(n_layers):\n",
        "    encoding_layer(params[i])\n",
        "  return qml.sample(wires=m_qubits)\n",
        "\n",
        "samples = circuit(opt_params, xval)\n",
        "#post_measurement_state = qml.state(circuit, conditional=samples)\n"
      ],
      "metadata": {
        "id": "Cr0hP4vpMbgs"
      },
      "execution_count": null,
      "outputs": []
    },
    {
      "cell_type": "code",
      "source": [
        "samples"
      ],
      "metadata": {
        "id": "Tq9QOKiEOwP-"
      },
      "execution_count": null,
      "outputs": []
    },
    {
      "cell_type": "code",
      "source": [
        "from pennylane.measurements.state import density_matrix\n",
        "def decoding_loop(params, wires):\n",
        "  all_qubits = wires\n",
        "  for j in range(n_layers):\n",
        "    for i, q in enumerate(all_qubits):\n",
        "      k = len(all_qubits) - i - 1\n",
        "      if k+1 < len(all_qubits):\n",
        "        qml.CNOT(wires=[all_qubits[k], all_qubits[k+1]])\n",
        "      for i, q in enumerate(all_qubits):\n",
        "        qml.RY(-params[j, i], wires=q)\n",
        "\n",
        "\n",
        "@qml.qnode(dev)\n",
        "@qml.defer_measurements\n",
        "def circuit_cond(params, x):\n",
        "  phase_embedding_layer(x)\n",
        "  for i in range(n_layers):\n",
        "    encoding_layer(params[i])\n",
        "  m0 = qml.measure(wires=m_qubits)\n",
        "  print(m0)\n",
        "  qml.cond(m0, decoding_loop)(params, wires=a_qubits+c_qubits)\n",
        "  return qml.density_matrix(wires=a_qubits+c_qubits)\n",
        "\n",
        "\n",
        "dev = qml.device(\"default.qubit\", wires=m_qubits+c_qubits+a_qubits, shots=10)\n",
        "@qml.qnode(dev)\n",
        "def embedding_circ(x):\n",
        "  phase_embedding_layer(x)\n",
        "  return density_matrix(wires=m_qubits+c_qubits)\n",
        "\n",
        "print(circuit_cond(opt_params, xval))\n",
        "print(embedding_circ(xval))\n",
        "qml.math.fidelity(embedding_circ(xval), circuit_cond(opt_params, xval))"
      ],
      "metadata": {
        "colab": {
          "base_uri": "https://localhost:8080/"
        },
        "id": "hiVBuxkH3vyU",
        "outputId": "ef8400b5-dd29-4b14-e82c-42e2d6a70b16"
      },
      "execution_count": null,
      "outputs": [
        {
          "output_type": "stream",
          "name": "stdout",
          "text": [
            "if 4e968209=0 => 0\n",
            "if 4e968209=1 => 1\n",
            "[[ 0.37249434+0.j          0.04844388+0.06568472j -0.06529836-0.28655129j\n",
            "   0.05502985-0.06069934j]\n",
            " [ 0.04844388-0.06568472j  0.17896133+0.j         -0.13027919-0.05354502j\n",
            "  -0.03549408-0.17610925j]\n",
            " [-0.06529836+0.28655129j -0.13027919+0.05354502j  0.26820203+0.j\n",
            "   0.07853045+0.11758317j]\n",
            " [ 0.05502985+0.06069934j -0.03549408+0.17610925j  0.07853045-0.11758317j\n",
            "   0.18034231+0.j        ]]\n",
            "[[ 0.25      +0.j         -0.03849743+0.24701811j  0.04179864+0.24648098j\n",
            "   0.24606829-0.04416329j]\n",
            " [-0.03849743-0.24701811j  0.25      +0.j          0.23710451-0.07925562j\n",
            "  -0.08152851-0.23633261j]\n",
            " [ 0.04179864-0.24648098j  0.23710451+0.07925562j  0.25      +0.j\n",
            "  -0.00240036-0.24998848j]\n",
            " [ 0.24606829+0.04416329j -0.08152851+0.23633261j -0.00240036+0.24998848j\n",
            "   0.25      +0.j        ]]\n",
            "if e08465f3=0 => 0\n",
            "if e08465f3=1 => 1\n"
          ]
        },
        {
          "output_type": "stream",
          "name": "stderr",
          "text": [
            "/usr/local/lib/python3.8/dist-packages/pennylane/_qubit_device.py:839: UserWarning: Requested state or density matrix with finite shots; the returned state information is analytic and is unaffected by sampling. To silence this warning, set shots=None on the device.\n",
            "  warnings.warn(\n"
          ]
        },
        {
          "output_type": "execute_result",
          "data": {
            "text/plain": [
              "0.14101694680812446"
            ]
          },
          "metadata": {},
          "execution_count": 72
        }
      ]
    },
    {
      "cell_type": "markdown",
      "metadata": {
        "id": "aLJ-Yn4LCGPH"
      },
      "source": [
        "# MNIST test"
      ]
    },
    {
      "cell_type": "code",
      "execution_count": null,
      "metadata": {
        "id": "LNpn33g6CPfU"
      },
      "outputs": [],
      "source": [
        "import pennylane as qml\n",
        "from pennylane import numpy as np\n",
        "import matplotlib.pyplot as plt\n",
        "from keras.datasets import mnist\n",
        "from PIL import Image\n",
        "\n",
        "# Load MNIST dataset\n",
        "(X_train, y_train), (X_test, y_test) = mnist.load_data()\n",
        "\n",
        "# Reshape images to 8x8 pixels\n",
        "X_train_resized = np.zeros((X_train.shape[0], 8, 8))\n",
        "for i in range(X_train.shape[0]):\n",
        "    img = Image.fromarray(X_train[i])\n",
        "    img = img.resize((8, 8), resample=Image.LANCZOS)\n",
        "    X_train_resized[i] = np.asarray(img)\n",
        "\n",
        "X_test_resized = np.zeros((X_test.shape[0], 8, 8))\n",
        "for i in range(X_test.shape[0]):\n",
        "    img = Image.fromarray(X_test[i])\n",
        "    img = img.resize((8, 8), resample=Image.LANCZOS)\n",
        "    X_test_resized[i] = np.asarray(img)\n",
        "\n",
        "fig, ax = plt.subplots(nrows=2, ncols=5, figsize=(10, 4))\n",
        "for i in range(10):\n",
        "    row = i // 5\n",
        "    col = i % 5\n",
        "    ax[row, col].imshow(X_train_resized[i], cmap='gray')\n",
        "    ax[row, col].set_title(str(y_train[i]))\n",
        "plt.tight_layout()\n",
        "plt.show()"
      ]
    },
    {
      "cell_type": "code",
      "execution_count": null,
      "metadata": {
        "id": "_xblPfSp-Qcy"
      },
      "outputs": [],
      "source": [
        "n_qubits = 6\n",
        "n_layers = 4\n",
        "measure_qubits = [0,1]\n",
        "dev = qml.device(\"default.qubit\", wires=n_qubits)\n",
        "\n",
        "def phase_embedding_layer(x):\n",
        "  #qml.AmplitudeEmbedding(features=np.exp(1j * np.pi * x), wires=range(n_qubits), pad_with=0.0, normalize=True)\n",
        "  qml.AmplitudeEmbedding(features=x, wires=range(n_qubits), pad_with=0.0, normalize=True)\n",
        "\n",
        "def encoding_layer(params):\n",
        "    for i in range(n_qubits):\n",
        "        qml.RY(params[i], wires=i)\n",
        "    for i in range(n_qubits):\n",
        "      qml.CNOT(wires=[i, (i+1)%n_qubits])\n",
        "\n",
        "def decoding_layer(params):\n",
        "    for i in range(n_qubits):\n",
        "      k = n_qubits - i - 1\n",
        "      qml.CNOT(wires=[k, (k+1)%n_qubits])\n",
        "    for i in range(n_qubits):\n",
        "        qml.RY(-params[i], wires=i)\n",
        "\n",
        "@qml.qnode(dev)\n",
        "def encoding_circuit(params, x, measure_qubits=None):\n",
        "  phase_embedding_layer(x)\n",
        "  for i in range(n_layers):\n",
        "    encoding_layer(params[i])\n",
        "  if measure_qubits is None:\n",
        "    return qml.state()\n",
        "  if (len(measure_qubits) == 2):\n",
        "    return qml.expval(qml.PauliZ(wires=measure_qubits[0])), qml.expval(qml.PauliZ(wires=measure_qubits[1]))  \n",
        "  return qml.expval(qml.PauliZ(wires=measure_qubits))"
      ]
    },
    {
      "cell_type": "code",
      "execution_count": null,
      "metadata": {
        "id": "LgqGcpUW_nqg"
      },
      "outputs": [],
      "source": [
        "np.shape(X_train_resized.reshape(60000, 64))"
      ]
    },
    {
      "cell_type": "code",
      "execution_count": null,
      "metadata": {
        "id": "_C6W5J5B-4va"
      },
      "outputs": [],
      "source": [
        "opt = qml.AdamOptimizer()\n",
        "\n",
        "def loss_fn(params, X, measure_qubits):\n",
        "  val = encoding_circuit(params, X, measure_qubits=measure_qubits)\n",
        "  return np.mean(np.abs(1-val))\n",
        "\n",
        "\n",
        "params = np.array([\n",
        "    [np.random.uniform(0, 2 * np.pi) for _ in range(n_qubits)] for _ in range(n_layers)\n",
        "], requires_grad=True)\n",
        "tot_iter = 1000\n",
        "batch_size = 500\n",
        "costs=[]\n",
        "xval = X_train_resized.reshape(60000, 64)\n",
        "xval = xval[np.random.choice(xval.shape[0], batch_size, replace=False), :]\n",
        "for i in range(tot_iter):\n",
        "    xval_batch = xval[np.random.choice(xval.shape[0], 100, replace=False), :]\n",
        "    params, cost_val = opt.step_and_cost(lambda v: loss_fn(v, xval_batch, measure_qubits), params)\n",
        "    costs.append(cost_val)\n",
        "    if (i + 1) % (tot_iter/100) == 0:\n",
        "        print('Step {}: Cost = {}'.format(i + 1, cost_val))\n",
        "\n",
        "# Plot cost history\n",
        "plt.plot(costs)\n",
        "plt.xlabel(\"Optimization step\")\n",
        "plt.ylabel(\"Cost\")\n",
        "plt.ylim(0)\n",
        "plt.show()"
      ]
    },
    {
      "cell_type": "markdown",
      "metadata": {
        "id": "mClyfDIdyfY6"
      },
      "source": [
        "# References\n",
        "\n",
        "[1] [Quantum autoencoders with enhanced data encoding](https://arxiv.org/abs/2010.06599)\n",
        "\n",
        "[2] [Quantum neural network autoencoder and classifier applied to an industrial case study\n",
        "](https://link.springer.com/article/10.1007/s42484-022-00070-4)\n",
        "\n",
        "[3] [Quantum computing model of an artificial neuron with continuously valued input data\n",
        "](https://iopscience.iop.org/article/10.1088/2632-2153/abaf98/meta)"
      ]
    },
    {
      "cell_type": "code",
      "execution_count": null,
      "metadata": {
        "id": "Q0BadxityaAL"
      },
      "outputs": [],
      "source": []
    },
    {
      "cell_type": "markdown",
      "source": [
        "# Complete code for 2-1-2 qubits"
      ],
      "metadata": {
        "id": "lbIbxQfuNDPQ"
      }
    },
    {
      "cell_type": "code",
      "source": [
        "n_layers = 4\n",
        "m_qubits = ['m0']\n",
        "c_qubits = ['c0', 'c1']\n",
        "a_qubits = ['a0']\n",
        "n_qubits = len(m_qubits+c_qubits)\n",
        "dev = qml.device(\"default.qubit\", wires=m_qubits+c_qubits+a_qubits)\n",
        "xval = np.random.uniform(\n",
        "    0,\n",
        "    np.pi,\n",
        "    2**n_qubits\n",
        ") #initial state\n",
        "\n",
        "dev = qml.device(\"default.qubit\", wires=m_qubits+c_qubits+a_qubits)\n",
        "\n",
        "def phase_embedding_layer(x):\n",
        "  qml.AmplitudeEmbedding(features=np.exp(1j * x), wires=m_qubits+c_qubits, pad_with=0.0, normalize=True)\n",
        "\n",
        "def encoding_layer(params):\n",
        "  all_qubits = m_qubits+c_qubits\n",
        "  for i, q in enumerate(all_qubits):\n",
        "    qml.RY(params[i], wires=q)\n",
        "  for i, q in enumerate(all_qubits):\n",
        "    if i + 1 < len(all_qubits):\n",
        "      qml.CNOT(wires=[q, all_qubits[i+1]])\n",
        "\n",
        "def decoding_layer(params):\n",
        "  all_qubits = a_qubits+c_qubits\n",
        "  for i, q in enumerate(all_qubits):\n",
        "    k = len(all_qubits) - i - 1\n",
        "    if k+1 < len(all_qubits):\n",
        "      qml.CNOT(wires=[all_qubits[k], all_qubits[k+1]])\n",
        "  for i, q in enumerate(all_qubits):\n",
        "    qml.RY(-params[i], wires=q)"
      ],
      "metadata": {
        "id": "UvpfmEuhNIZM"
      },
      "execution_count": null,
      "outputs": []
    },
    {
      "cell_type": "code",
      "source": [
        "## Training\n",
        "opt = qml.AdamOptimizer()\n",
        "\n",
        "@qml.qnode(dev)\n",
        "def encode_loop(params, x):\n",
        "  phase_embedding_layer(x)\n",
        "  for i in range(n_layers):\n",
        "    encoding_layer(params[i])\n",
        "  return qml.expval(qml.PauliZ(wires=m_qubits))\n",
        "\n",
        "\n",
        "def loss_fn(params, X):\n",
        "  e_val = encode_loop(params, X)\n",
        "  return np.mean(np.abs(1-e_val))\n",
        "\n",
        "params = np.array([\n",
        "    [np.random.uniform(0, 2 * np.pi) for _ in range(n_qubits)] for _ in range(n_layers)\n",
        "], requires_grad=True)\n",
        "opt_params = np.zeros_like(params)\n",
        "tot_iter = 1000\n",
        "costs=[]\n",
        "for i in range(tot_iter):\n",
        "  params, cost_val = opt.step_and_cost(lambda v: loss_fn(v, xval), params)\n",
        "  costs.append(cost_val)\n",
        "  if (i + 1) % (tot_iter/100) == 0:\n",
        "    print('Step {}: Cost = {}'.format(i + 1, cost_val))\n",
        "  opt_params = params"
      ],
      "metadata": {
        "colab": {
          "base_uri": "https://localhost:8080/"
        },
        "id": "_2FxQ-QGNnVZ",
        "outputId": "b985b3e3-6be0-490e-8532-b13259a09c95"
      },
      "execution_count": null,
      "outputs": [
        {
          "output_type": "stream",
          "name": "stdout",
          "text": [
            "Step 10: Cost = 1.4512629500506753\n",
            "Step 20: Cost = 1.2535234274987315\n",
            "Step 30: Cost = 1.026950145148915\n",
            "Step 40: Cost = 0.808267976761307\n",
            "Step 50: Cost = 0.6232082238502752\n",
            "Step 60: Cost = 0.47813304484793906\n",
            "Step 70: Cost = 0.36940387737019065\n",
            "Step 80: Cost = 0.28228203103685345\n",
            "Step 90: Cost = 0.20393866292944807\n",
            "Step 100: Cost = 0.13522429346954\n",
            "Step 110: Cost = 0.0811416003823866\n",
            "Step 120: Cost = 0.04411556726913746\n",
            "Step 130: Cost = 0.022246406583945944\n",
            "Step 140: Cost = 0.010893721949160828\n",
            "Step 150: Cost = 0.005612996134924053\n",
            "Step 160: Cost = 0.0033876035146054306\n",
            "Step 170: Cost = 0.0025256306542371654\n",
            "Step 180: Cost = 0.002196100084764452\n",
            "Step 190: Cost = 0.002042046138650777\n",
            "Step 200: Cost = 0.0019357089586041765\n",
            "Step 210: Cost = 0.0018393274921804093\n",
            "Step 220: Cost = 0.0017446309594536524\n",
            "Step 230: Cost = 0.0016513724374392913\n",
            "Step 240: Cost = 0.0015603421226629832\n",
            "Step 250: Cost = 0.0014719309578054007\n",
            "Step 260: Cost = 0.0013862747315611657\n",
            "Step 270: Cost = 0.0013034531056113074\n",
            "Step 280: Cost = 0.0012235476427294723\n",
            "Step 290: Cost = 0.0011466280261666073\n",
            "Step 300: Cost = 0.0010727340503118299\n",
            "Step 310: Cost = 0.001001872944144666\n",
            "Step 320: Cost = 0.0009340244573619039\n",
            "Step 330: Cost = 0.0008691482128890815\n",
            "Step 340: Cost = 0.0008071905513342692\n",
            "Step 350: Cost = 0.0007480906458975367\n",
            "Step 360: Cost = 0.0006917858359534179\n",
            "Step 370: Cost = 0.0006382157608065819\n",
            "Step 380: Cost = 0.0005873249539330994\n",
            "Step 390: Cost = 0.0005390637324130809\n",
            "Step 400: Cost = 0.0004933874712604869\n",
            "Step 410: Cost = 0.0004502545447936379\n",
            "Step 420: Cost = 0.0004096234185557712\n",
            "Step 430: Cost = 0.00037144950064327276\n",
            "Step 440: Cost = 0.0003356823772050488\n",
            "Step 450: Cost = 0.0003022639587076936\n",
            "Step 460: Cost = 0.0002711278661334804\n",
            "Step 470: Cost = 0.00024220012380760103\n",
            "Step 480: Cost = 0.00021540095474437138\n",
            "Step 490: Cost = 0.00019064725570927532\n",
            "Step 500: Cost = 0.0001678552121847643\n",
            "Step 510: Cost = 0.00014694252269531471\n",
            "Step 520: Cost = 0.00012782982914061325\n",
            "Step 530: Cost = 0.00011044115573055624\n",
            "Step 540: Cost = 9.470338570138903e-05\n",
            "Step 550: Cost = 8.054499408549631e-05\n",
            "Step 560: Cost = 6.789436651255532e-05\n",
            "Step 570: Cost = 5.667805611841992e-05\n",
            "Step 580: Cost = 4.6819278460730196e-05\n",
            "Step 590: Cost = 3.8236850352979523e-05\n",
            "Step 600: Cost = 3.084467777603184e-05\n",
            "Step 610: Cost = 2.4551815466788973e-05\n",
            "Step 620: Cost = 1.9263066117991556e-05\n",
            "Step 630: Cost = 1.488005580585483e-05\n",
            "Step 640: Cost = 1.1302703386006918e-05\n",
            "Step 650: Cost = 8.430985037999328e-06\n",
            "Step 660: Cost = 6.166876616031658e-06\n",
            "Step 670: Cost = 4.41633839132205e-06\n",
            "Step 680: Cost = 3.091195544202563e-06\n",
            "Step 690: Cost = 2.1107697992794883e-06\n",
            "Step 700: Cost = 1.4031369282019313e-06\n",
            "Step 710: Cost = 9.059207548567372e-07\n",
            "Step 720: Cost = 5.665824013290077e-07\n",
            "Step 730: Cost = 3.4221652556176707e-07\n",
            "Step 740: Cost = 1.9891566449548037e-07\n",
            "Step 750: Cost = 1.108021506768253e-07\n",
            "Step 760: Cost = 5.884907150477403e-08\n",
            "Step 770: Cost = 2.9615624175249877e-08\n",
            "Step 780: Cost = 1.4009503224166053e-08\n",
            "Step 790: Cost = 6.163975996287263e-09\n",
            "Step 800: Cost = 2.4859218017425633e-09\n",
            "Step 810: Cost = 8.993786826394512e-10\n",
            "Step 820: Cost = 2.819409150589536e-10\n",
            "Step 830: Cost = 7.185785300123371e-11\n",
            "Step 840: Cost = 1.287481232736809e-11\n",
            "Step 850: Cost = 9.590106486712102e-13\n",
            "Step 860: Cost = 4.4075854077618715e-14\n",
            "Step 870: Cost = 3.489430966396867e-13\n",
            "Step 880: Cost = 3.29847260616134e-13\n",
            "Step 890: Cost = 1.6642243139131097e-13\n",
            "Step 900: Cost = 5.1958437552457326e-14\n",
            "Step 910: Cost = 8.992806499463768e-15\n",
            "Step 920: Cost = 3.3306690738754696e-16\n",
            "Step 930: Cost = 2.220446049250313e-16\n",
            "Step 940: Cost = 9.992007221626409e-16\n",
            "Step 950: Cost = 4.440892098500626e-16\n",
            "Step 960: Cost = 3.3306690738754696e-16\n",
            "Step 970: Cost = 4.440892098500626e-16\n",
            "Step 980: Cost = 1.1102230246251565e-16\n",
            "Step 990: Cost = 2.220446049250313e-16\n",
            "Step 1000: Cost = 2.220446049250313e-16\n"
          ]
        }
      ]
    },
    {
      "cell_type": "code",
      "source": [
        "# Plot cost history\n",
        "plt.plot(costs)\n",
        "plt.xlabel(\"Optimization step\")\n",
        "plt.ylabel(\"Cost\")\n",
        "plt.ylim(0)\n",
        "plt.show()"
      ],
      "metadata": {
        "colab": {
          "base_uri": "https://localhost:8080/",
          "height": 281
        },
        "id": "gspholpgN4w5",
        "outputId": "1063b04a-427c-46e7-bfc2-ec14d5ac3356"
      },
      "execution_count": null,
      "outputs": [
        {
          "output_type": "display_data",
          "data": {
            "text/plain": [
              "<Figure size 432x288 with 1 Axes>"
            ],
            "image/png": "[encoded data removed]"
          },
          "metadata": {
            "needs_background": "light"
          }
        }
      ]
    },
    {
      "cell_type": "code",
      "source": [
        "\n",
        "def decoding_loop(params, wires):\n",
        "  all_qubits = wires\n",
        "  for j in range(n_layers):\n",
        "    for i, q in enumerate(all_qubits):\n",
        "      k = len(all_qubits) - i - 1\n",
        "      if k+1 < len(all_qubits):\n",
        "        qml.CNOT(wires=[all_qubits[k], all_qubits[k+1]])\n",
        "      for i, q in enumerate(all_qubits):\n",
        "        qml.RY(-params[-(j+1), i], wires=q)\n",
        "\n",
        "@qml.qnode(dev)\n",
        "@qml.defer_measurements\n",
        "def circuit_cond(params, x):\n",
        "  phase_embedding_layer(x)\n",
        "  for i in range(n_layers):\n",
        "    encoding_layer(params[i])\n",
        "  m0 = qml.measure(wires=m_qubits)\n",
        "  qml.cond(m0, decoding_loop)(params, wires=a_qubits+c_qubits)\n",
        "  print(m0)\n",
        "  return qml.density_matrix(wires=a_qubits+c_qubits)\n",
        "\n",
        "@qml.qnode(dev)\n",
        "def embedding_circ(x):\n",
        "  phase_embedding_layer(x)\n",
        "  return qml.density_matrix(wires=m_qubits+c_qubits)\n",
        "\n",
        "print(circuit_cond(opt_params, xval))\n",
        "print(embedding_circ(xval))\n",
        "qml.math.fidelity(embedding_circ(xval), circuit_cond(opt_params, xval))"
      ],
      "metadata": {
        "colab": {
          "base_uri": "https://localhost:8080/"
        },
        "id": "dzWJ9T9JN6I7",
        "outputId": "49d887d6-0f7e-4e8e-869a-0dd5f38d2857"
      },
      "execution_count": null,
      "outputs": [
        {
          "output_type": "stream",
          "name": "stdout",
          "text": [
            "if dcfbeb46=0 => 0\n",
            "if dcfbeb46=1 => 1\n",
            "[[ 5.70138609e-01+6.61666927e-18j -3.95757490e-20+1.90845433e-20j\n",
            "  -1.71991436e-01-7.71133559e-02j -5.18116744e-20-5.50072092e-20j\n",
            "   4.65194313e-02+4.28271057e-01j  5.71561866e-20+6.77990851e-20j\n",
            "   5.13505775e-02-1.46068525e-01j -4.75819030e-20-2.47558792e-20j]\n",
            " [-3.95757490e-20-1.90845433e-20j  6.63651247e-20-4.22987569e-37j\n",
            "  -4.53076827e-20+3.37630405e-20j  3.44018945e-20+1.08831920e-19j\n",
            "   1.82185976e-20+7.82314883e-20j -3.32806929e-20-1.29742120e-19j\n",
            "   1.32824094e-20+5.67536145e-22j  4.84946432e-20+6.48989644e-20j]\n",
            " [-1.71991436e-01+7.71133559e-02j -4.53076827e-20-3.37630405e-20j\n",
            "   6.23138356e-02+4.03733602e-19j  3.18816005e-20-9.18017509e-20j\n",
            "  -7.19585756e-02-1.22902893e-01j -4.32850442e-20+1.05506803e-19j\n",
            "   4.26558484e-03+5.10092637e-02j -9.03116620e-23-6.89782218e-20j]\n",
            " [-5.18116744e-20+5.50072092e-20j  3.44018945e-20-1.08831920e-19j\n",
            "   3.18816005e-20+9.18017509e-20j  1.96306074e-19-5.01669391e-36j\n",
            "   1.37735556e-19+1.06764880e-20j -2.30015432e-19-1.26779391e-20j\n",
            "   7.81594394e-21-2.14875780e-20j  1.31565887e-19-4.58843075e-20j]\n",
            " [ 4.65194313e-02-4.28271057e-01j  1.82185976e-20-7.82314883e-20j\n",
            "  -7.19585756e-02+1.22902893e-01j  1.37735556e-19-1.06764880e-20j\n",
            "   3.25500068e-01+8.64427660e-18j -1.62076794e-19+3.61452904e-21j\n",
            "  -1.05532446e-01-5.04912146e-02j  8.98159538e-20-3.93495832e-20j]\n",
            " [ 5.71561866e-20-6.77990851e-20j -3.32806929e-20+1.29742120e-19j\n",
            "  -4.32850442e-20-1.05506803e-19j -2.30015432e-19+1.26779391e-20j\n",
            "  -1.62076794e-19-3.61452904e-21j  2.70332079e-19+8.16260648e-37j\n",
            "  -7.77036331e-21+2.56821630e-20j -1.51194842e-19+6.22603410e-20j]\n",
            " [ 5.13505775e-02+1.46068525e-01j  1.32824094e-20-5.67536145e-22j\n",
            "   4.26558484e-03-5.10092637e-02j  7.81594394e-21+2.14875780e-20j\n",
            "  -1.05532446e-01+5.04912146e-02j -7.77036331e-21-2.56821630e-20j\n",
            "   4.20474871e-02+0.00000000e+00j  1.02607840e-20+1.25742573e-20j]\n",
            " [-4.75819030e-20+2.47558792e-20j  4.84946432e-20-6.48989644e-20j\n",
            "  -9.03116620e-23+6.89782218e-20j  1.31565887e-19+4.58843075e-20j\n",
            "   8.98159538e-20+3.93495832e-20j -1.51194842e-19-6.22603410e-20j\n",
            "   1.02607840e-20-1.25742573e-20j  9.89014341e-20+0.00000000e+00j]]\n",
            "[[ 0.125     +3.16508307e-18j -0.0805286 -9.56041026e-02j\n",
            "   0.12115798+3.07529351e-02j  0.12452522-1.08843644e-02j\n",
            "   0.0931028 -8.34078483e-02j  0.05566593-1.11920975e-01j\n",
            "  -0.00575996-1.24867221e-01j  0.1246408 +9.46946100e-03j]\n",
            " [-0.0805286 +9.56041026e-02j  0.125     +3.02849675e-18j\n",
            "  -0.10157432+7.28536757e-02j -0.07189802+1.02252997e-01j\n",
            "   0.00381356+1.24941814e-01j  0.04973924+1.14677843e-01j\n",
            "   0.09921328+7.60376538e-02j -0.08753975+8.92288760e-02j]\n",
            " [ 0.12115798-3.07529351e-02j -0.10157432-7.28536757e-02j\n",
            "   0.125     -5.48651321e-20j  0.11801999-4.11859494e-02j\n",
            "   0.06972089-1.03749688e-01j  0.02641978-1.22176082e-01j\n",
            "  -0.03630319-1.19612200e-01j  0.12313953-2.14861573e-02j]\n",
            " [ 0.12452522+1.08843644e-02j -0.07189802-1.02252997e-01j\n",
            "   0.11801999+4.11859494e-02j  0.125     +1.72177807e-18j\n",
            "   0.1000119 -7.49841276e-02j  0.0652    -1.06648768e-01j\n",
            "   0.00513472-1.24894494e-01j  0.12334283+2.02865810e-02j]\n",
            " [ 0.0931028 +8.34078483e-02j  0.00381356-1.24941814e-01j\n",
            "   0.06972089+1.03749688e-01j  0.1000119 +7.49841276e-02j\n",
            "   0.125     -2.78325572e-18j  0.11614193-4.62174465e-02j\n",
            "   0.0790291 -9.68473078e-02j  0.08651664+9.02212347e-02j]\n",
            " [ 0.05566593+1.11920975e-01j  0.04973924-1.14677843e-01j\n",
            "   0.02641978+1.22176082e-01j  0.0652    +1.06648768e-01j\n",
            "   0.11614193+4.62174465e-02j  0.125     -1.43024437e-18j\n",
            "   0.10923702-6.07640787e-02j  0.04702731+1.15816371e-01j]\n",
            " [-0.00575996+1.24867221e-01j  0.09921328-7.60376538e-02j\n",
            "  -0.03630319+1.19612200e-01j  0.00513472+1.24894494e-01j\n",
            "   0.0790291 +9.68473078e-02j  0.10923702+6.07640787e-02j\n",
            "   0.125     +0.00000000e+00j -0.01520281+1.24072054e-01j]\n",
            " [ 0.1246408 -9.46946100e-03j -0.08753975-8.92288760e-02j\n",
            "   0.12313953+2.14861573e-02j  0.12334283-2.02865810e-02j\n",
            "   0.08651664-9.02212347e-02j  0.04702731-1.15816371e-01j\n",
            "  -0.01520281-1.24072054e-01j  0.125     +0.00000000e+00j]]\n",
            "if b903fc25=0 => 0\n",
            "if b903fc25=1 => 1\n"
          ]
        },
        {
          "output_type": "execute_result",
          "data": {
            "text/plain": [
              "0.047742917799923026"
            ]
          },
          "metadata": {},
          "execution_count": 35
        }
      ]
    }
  ],
  "metadata": {
    "colab": {
      "provenance": []
    },
    "kernelspec": {
      "display_name": "Python 3",
      "name": "python3"
    },
    "language_info": {
      "name": "python"
    }
  },
  "nbformat": 4,
  "nbformat_minor": 0
}